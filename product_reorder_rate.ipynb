{
 "cells": [
  {
   "cell_type": "markdown",
   "metadata": {},
   "source": [
    "__Task:__ \\\n",
    "For each product, what proportion of its orders are reorders? \\\n",
    "Create a table with columns for the product ID, product name, and reorder proportion."
   ]
  },
  {
   "cell_type": "markdown",
   "metadata": {},
   "source": [
    "To solve this task 2 dataframes are needed:\n",
    "* products\n",
    "* order_products"
   ]
  },
  {
   "cell_type": "markdown",
   "metadata": {},
   "source": [
    "The table products contains the column with product names. \\\n",
    "In the table order_products each row corresponds to one product placed in an order.\n",
    "\n",
    "To determine the proportion of reorders to orders for each product, it is necessary to:\n",
    "* group the dataframe by product,\n",
    "* calculate how many times each product is ordered,\n",
    "* calculate how many times each product is reordered,\n",
    "* find a proportion of the product's reorders to its orders."
   ]
  },
  {
   "cell_type": "code",
   "execution_count": null,
   "metadata": {},
   "outputs": [],
   "source": [
    "import pandas as pd"
   ]
  },
  {
   "cell_type": "code",
   "execution_count": null,
   "metadata": {},
   "outputs": [],
   "source": [
    "# counting how many times each product is ordered\n",
    "total_orders = order_products.groupby('product_id')['reordered'].count()"
   ]
  },
  {
   "cell_type": "code",
   "execution_count": null,
   "metadata": {},
   "outputs": [],
   "source": [
    "# counting how many times each product is reordered\n",
    "reorders = order_products.groupby('product_id')['reordered'].sum()"
   ]
  },
  {
   "cell_type": "code",
   "execution_count": null,
   "metadata": {},
   "outputs": [],
   "source": [
    "# finding a proportion of the product's reorders to its orders\n",
    "proportion = (reorders/total_orders)*100"
   ]
  },
  {
   "cell_type": "code",
   "execution_count": null,
   "metadata": {},
   "outputs": [],
   "source": [
    "# creating a table with results\n",
    "table=pd.concat([total_orders, reorders, proportion], axis=1).reset_index()\n",
    "table.columns = ['product_id', 'total_orders', 'reorders', 'proportion']"
   ]
  },
  {
   "cell_type": "code",
   "execution_count": null,
   "metadata": {},
   "outputs": [],
   "source": [
    "# merging 2 tables, leaving only columns that are requested\n",
    "result=table[['product_id', 'proportion']].merge(products[['product_id', 'product_name']], on='product_id', how='left')"
   ]
  }
 ],
 "metadata": {
  "language_info": {
   "name": "python"
  }
 },
 "nbformat": 4,
 "nbformat_minor": 2
}
